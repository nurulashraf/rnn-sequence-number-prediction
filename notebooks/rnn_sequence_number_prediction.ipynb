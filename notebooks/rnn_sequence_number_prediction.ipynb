{
  "nbformat": 4,
  "nbformat_minor": 0,
  "metadata": {
    "colab": {
      "provenance": []
    },
    "kernelspec": {
      "name": "python3",
      "display_name": "Python 3"
    },
    "language_info": {
      "name": "python"
    }
  },
  "cells": [
    {
      "cell_type": "markdown",
      "source": [
        "# Predicting Sequence Number using Recurrent Neural Network (RNN)\n",
        "\n",
        "\n",
        "\n",
        "---\n",
        "\n",
        "\n",
        "This analysis demonstrates how to build and train a simple Recurrent Neural Network (RNN) model to predict the next number in a sequence. We will cover data preparation, model architecture, training, and prediction.\n",
        "\n",
        "\n",
        "---\n",
        "\n"
      ],
      "metadata": {
        "id": "okBRX1N5wa_L"
      }
    },
    {
      "cell_type": "markdown",
      "source": [
        "## Import Libraries"
      ],
      "metadata": {
        "id": "NRPWeaVYsSpN"
      }
    },
    {
      "cell_type": "code",
      "execution_count": null,
      "metadata": {
        "id": "VqcvRDTyq9Mk"
      },
      "outputs": [],
      "source": [
        "import numpy as np\n",
        "from tensorflow.keras.models import Sequential\n",
        "from tensorflow.keras.layers import SimpleRNN, Dense"
      ]
    },
    {
      "cell_type": "markdown",
      "source": [
        "## Create the Data"
      ],
      "metadata": {
        "id": "bb1keN1Xt2wi"
      }
    },
    {
      "cell_type": "code",
      "source": [
        "data = list(range(1, 200))"
      ],
      "metadata": {
        "id": "kRJxgZ2Mt2gG"
      },
      "execution_count": null,
      "outputs": []
    },
    {
      "cell_type": "markdown",
      "source": [
        "## Function to Format Input Date for RNN Training\n"
      ],
      "metadata": {
        "id": "5uSkGIOiuBfO"
      }
    },
    {
      "cell_type": "code",
      "source": [
        "def create_sequence(data, sequence_length):\n",
        "    \"\"\"\n",
        "    Create input (X) and output (y) pairs for sequence models like RNN.\n",
        "\n",
        "    Parameters:\n",
        "        data (array-like): The time series or sequential data.\n",
        "        sequence_length (int): The length of each input sequence.\n",
        "\n",
        "    Returns:\n",
        "        X (ndarray): Array of input sequences.\n",
        "        y (ndarray): Array of corresponding outputs.\n",
        "    \"\"\"\n",
        "    X, y = [], []\n",
        "\n",
        "    for i in range(len(data) - sequence_length):\n",
        "        X.append(data[i:i + sequence_length])      # Input sequence\n",
        "        y.append(data[i + sequence_length])        # Output value\n",
        "\n",
        "    return np.array(X), np.array(y)"
      ],
      "metadata": {
        "id": "Cc7LZJMLuJrR"
      },
      "execution_count": null,
      "outputs": []
    },
    {
      "cell_type": "code",
      "source": [
        "sequence_length = 5\n",
        "X, y = create_sequence(data, sequence_length)"
      ],
      "metadata": {
        "id": "tP07ZSlMvn5S"
      },
      "execution_count": null,
      "outputs": []
    },
    {
      "cell_type": "code",
      "source": [
        "# Check the output of the sequence\n",
        "print(f\"Input Sequence :{X.shape} \")\n",
        "print(f\"Output Sequence:{y.shape} \")"
      ],
      "metadata": {
        "colab": {
          "base_uri": "https://localhost:8080/"
        },
        "id": "vpQ7XsJAvx2K",
        "outputId": "ecd07260-02dc-4082-aec2-4f46ee02bf4e"
      },
      "execution_count": null,
      "outputs": [
        {
          "output_type": "stream",
          "name": "stdout",
          "text": [
            "Input Sequence :(194, 5) \n",
            "Output Sequence:(194,) \n"
          ]
        }
      ]
    },
    {
      "cell_type": "markdown",
      "source": [
        "## Build the RNN Model"
      ],
      "metadata": {
        "id": "kroLl33KwK7I"
      }
    },
    {
      "cell_type": "code",
      "source": [
        "model = Sequential()\n",
        "\n",
        "model.add(SimpleRNN(50, activation='relu', input_shape=(sequence_length, 1)))\n",
        "model.add(Dense(1))"
      ],
      "metadata": {
        "id": "WjhjRLYgwRhM",
        "colab": {
          "base_uri": "https://localhost:8080/"
        },
        "outputId": "474982db-3bff-415b-b1b1-104e52012938"
      },
      "execution_count": null,
      "outputs": [
        {
          "output_type": "stream",
          "name": "stderr",
          "text": [
            "/usr/local/lib/python3.12/dist-packages/keras/src/layers/rnn/rnn.py:199: UserWarning: Do not pass an `input_shape`/`input_dim` argument to a layer. When using Sequential models, prefer using an `Input(shape)` object as the first layer in the model instead.\n",
            "  super().__init__(**kwargs)\n"
          ]
        }
      ]
    },
    {
      "cell_type": "markdown",
      "source": [
        "## Compile the Model"
      ],
      "metadata": {
        "id": "85JNVfGxxEzV"
      }
    },
    {
      "cell_type": "code",
      "source": [
        "model.compile(optimizer='Adam', loss='mse')"
      ],
      "metadata": {
        "id": "26Lkn-xuw7zC"
      },
      "execution_count": null,
      "outputs": []
    },
    {
      "cell_type": "markdown",
      "source": [
        "## Train the Model"
      ],
      "metadata": {
        "id": "14NBhQXfxapB"
      }
    },
    {
      "cell_type": "code",
      "source": [
        "train_model = model.fit(X, y, epochs = 200, batch_size = 32, verbose=0)"
      ],
      "metadata": {
        "id": "MGPPA_zCxWQa"
      },
      "execution_count": null,
      "outputs": []
    },
    {
      "cell_type": "markdown",
      "source": [
        "## Predict the Next Number"
      ],
      "metadata": {
        "id": "q1UuarRpx9vO"
      }
    },
    {
      "cell_type": "code",
      "source": [
        "# Example input sequence for prediction\n",
        "input_sequence = np.array([120, 121, 122, 123, 124])\n",
        "\n",
        "# Reshape the input to match the model's expected input shape\n",
        "input_sequence_reshaped = input_sequence.reshape((1, sequence_length, 1))\n",
        "\n",
        "# Predict the next number\n",
        "predicted_number = model.predict(input_sequence_reshaped, verbose=0)\n",
        "\n",
        "print(f\"Input Sequence: {input_sequence}\")\n",
        "print(f\"Predicted Next Number: {predicted_number[0][0]}\")"
      ],
      "metadata": {
        "colab": {
          "base_uri": "https://localhost:8080/"
        },
        "id": "ZJ0B610vxmHi",
        "outputId": "cf287c46-7c99-4ec7-dffc-349db0ef6b2c"
      },
      "execution_count": null,
      "outputs": [
        {
          "output_type": "stream",
          "name": "stdout",
          "text": [
            "Input Sequence: [120 121 122 123 124]\n",
            "Predicted Next Number: 125.0301513671875\n"
          ]
        }
      ]
    },
    {
      "cell_type": "markdown",
      "metadata": {
        "id": "8a35f232"
      },
      "source": [
        "## Conclusion\n",
        "\n",
        "This analysis successfully demonstrates the implementation of a simple RNN model for sequence prediction. The model, trained on a sequence of numbers, was able to predict the next number in a given input sequence with reasonable accuracy, as shown by the prediction example. This approach can be extended to more complex sequence prediction tasks in various domains."
      ]
    }
  ]
}